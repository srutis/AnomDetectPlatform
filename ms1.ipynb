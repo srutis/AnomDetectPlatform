{
 "cells": [
  {
   "cell_type": "code",
   "execution_count": 6,
   "id": "regulated-chamber",
   "metadata": {},
   "outputs": [],
   "source": [
    "import datetime"
   ]
  },
  {
   "cell_type": "code",
   "execution_count": 8,
   "id": "atlantic-inspection",
   "metadata": {},
   "outputs": [
    {
     "name": "stdout",
     "output_type": "stream",
     "text": [
      "Aloha, World! It is now 2021-02-21 17:59:06 in this part of the globe!\n"
     ]
    }
   ],
   "source": [
    "print(f\"Aloha, World! It is now {datetime.datetime.now().strftime('%Y-%m-%d %H:%M:%S')} in this part of the globe!\")"
   ]
  },
  {
   "cell_type": "code",
   "execution_count": null,
   "id": "mathematical-michigan",
   "metadata": {},
   "outputs": [],
   "source": [
    "#!pip install --upgrade pandas"
   ]
  },
  {
   "cell_type": "code",
   "execution_count": null,
   "id": "thousand-creature",
   "metadata": {
    "scrolled": true
   },
   "outputs": [],
   "source": [
    "#import pandas as pd, numpy as np"
   ]
  },
  {
   "cell_type": "code",
   "execution_count": null,
   "id": "golden-suspect",
   "metadata": {},
   "outputs": [],
   "source": [
    "#pd.__version__"
   ]
  },
  {
   "cell_type": "code",
   "execution_count": null,
   "id": "cheap-captain",
   "metadata": {},
   "outputs": [],
   "source": [
    "#np.__version__"
   ]
  }
 ],
 "metadata": {
  "kernelspec": {
   "display_name": "Python 3",
   "language": "python",
   "name": "python3"
  },
  "language_info": {
   "codemirror_mode": {
    "name": "ipython",
    "version": 3
   },
   "file_extension": ".py",
   "mimetype": "text/x-python",
   "name": "python",
   "nbconvert_exporter": "python",
   "pygments_lexer": "ipython3",
   "version": "3.8.8"
  }
 },
 "nbformat": 4,
 "nbformat_minor": 5
}
